{
 "cells": [
  {
   "cell_type": "code",
   "execution_count": 2,
   "id": "384a3065",
   "metadata": {},
   "outputs": [],
   "source": [
    "import pandas as pd"
   ]
  },
  {
   "cell_type": "code",
   "execution_count": 3,
   "id": "b092b2a1",
   "metadata": {},
   "outputs": [
    {
     "data": {
      "text/html": [
       "<div>\n",
       "<style scoped>\n",
       "    .dataframe tbody tr th:only-of-type {\n",
       "        vertical-align: middle;\n",
       "    }\n",
       "\n",
       "    .dataframe tbody tr th {\n",
       "        vertical-align: top;\n",
       "    }\n",
       "\n",
       "    .dataframe thead th {\n",
       "        text-align: right;\n",
       "    }\n",
       "</style>\n",
       "<table border=\"1\" class=\"dataframe\">\n",
       "  <thead>\n",
       "    <tr style=\"text-align: right;\">\n",
       "      <th></th>\n",
       "      <th>participant</th>\n",
       "      <th>prime</th>\n",
       "      <th>target</th>\n",
       "      <th>rt</th>\n",
       "    </tr>\n",
       "  </thead>\n",
       "  <tbody>\n",
       "    <tr>\n",
       "      <th>0</th>\n",
       "      <td>1</td>\n",
       "      <td>positiveprime</td>\n",
       "      <td>positivetarget</td>\n",
       "      <td>1502</td>\n",
       "    </tr>\n",
       "    <tr>\n",
       "      <th>1</th>\n",
       "      <td>2</td>\n",
       "      <td>positiveprime</td>\n",
       "      <td>positivetarget</td>\n",
       "      <td>1535</td>\n",
       "    </tr>\n",
       "    <tr>\n",
       "      <th>2</th>\n",
       "      <td>3</td>\n",
       "      <td>positiveprime</td>\n",
       "      <td>positivetarget</td>\n",
       "      <td>1563</td>\n",
       "    </tr>\n",
       "    <tr>\n",
       "      <th>3</th>\n",
       "      <td>4</td>\n",
       "      <td>positiveprime</td>\n",
       "      <td>positivetarget</td>\n",
       "      <td>1492</td>\n",
       "    </tr>\n",
       "    <tr>\n",
       "      <th>4</th>\n",
       "      <td>5</td>\n",
       "      <td>positiveprime</td>\n",
       "      <td>positivetarget</td>\n",
       "      <td>1560</td>\n",
       "    </tr>\n",
       "    <tr>\n",
       "      <th>...</th>\n",
       "      <td>...</td>\n",
       "      <td>...</td>\n",
       "      <td>...</td>\n",
       "      <td>...</td>\n",
       "    </tr>\n",
       "    <tr>\n",
       "      <th>587</th>\n",
       "      <td>144</td>\n",
       "      <td>negativeprime</td>\n",
       "      <td>negativetarget</td>\n",
       "      <td>1474</td>\n",
       "    </tr>\n",
       "    <tr>\n",
       "      <th>588</th>\n",
       "      <td>145</td>\n",
       "      <td>negativeprime</td>\n",
       "      <td>negativetarget</td>\n",
       "      <td>1535</td>\n",
       "    </tr>\n",
       "    <tr>\n",
       "      <th>589</th>\n",
       "      <td>146</td>\n",
       "      <td>negativeprime</td>\n",
       "      <td>negativetarget</td>\n",
       "      <td>1575</td>\n",
       "    </tr>\n",
       "    <tr>\n",
       "      <th>590</th>\n",
       "      <td>147</td>\n",
       "      <td>negativeprime</td>\n",
       "      <td>negativetarget</td>\n",
       "      <td>1505</td>\n",
       "    </tr>\n",
       "    <tr>\n",
       "      <th>591</th>\n",
       "      <td>148</td>\n",
       "      <td>negativeprime</td>\n",
       "      <td>negativetarget</td>\n",
       "      <td>1471</td>\n",
       "    </tr>\n",
       "  </tbody>\n",
       "</table>\n",
       "<p>592 rows × 4 columns</p>\n",
       "</div>"
      ],
      "text/plain": [
       "     participant          prime          target    rt\n",
       "0              1  positiveprime  positivetarget  1502\n",
       "1              2  positiveprime  positivetarget  1535\n",
       "2              3  positiveprime  positivetarget  1563\n",
       "3              4  positiveprime  positivetarget  1492\n",
       "4              5  positiveprime  positivetarget  1560\n",
       "..           ...            ...             ...   ...\n",
       "587          144  negativeprime  negativetarget  1474\n",
       "588          145  negativeprime  negativetarget  1535\n",
       "589          146  negativeprime  negativetarget  1575\n",
       "590          147  negativeprime  negativetarget  1505\n",
       "591          148  negativeprime  negativetarget  1471\n",
       "\n",
       "[592 rows x 4 columns]"
      ]
     },
     "execution_count": 3,
     "metadata": {},
     "output_type": "execute_result"
    }
   ],
   "source": [
    "pd.read_csv(\"python_assignment_1.csv\")"
   ]
  },
  {
   "cell_type": "code",
   "execution_count": 4,
   "id": "5c98c3c7",
   "metadata": {},
   "outputs": [],
   "source": [
    "def read_my_data(x):\n",
    "    my_data = pd.read_csv(x)\n",
    "    return my_data"
   ]
  },
  {
   "cell_type": "code",
   "execution_count": 5,
   "id": "a841261b",
   "metadata": {},
   "outputs": [],
   "source": [
    "my_data=read_my_data(\"python_assignment_1.csv\")"
   ]
  },
  {
   "cell_type": "code",
   "execution_count": 6,
   "id": "98d0ecff",
   "metadata": {},
   "outputs": [
    {
     "data": {
      "text/html": [
       "<div>\n",
       "<style scoped>\n",
       "    .dataframe tbody tr th:only-of-type {\n",
       "        vertical-align: middle;\n",
       "    }\n",
       "\n",
       "    .dataframe tbody tr th {\n",
       "        vertical-align: top;\n",
       "    }\n",
       "\n",
       "    .dataframe thead th {\n",
       "        text-align: right;\n",
       "    }\n",
       "</style>\n",
       "<table border=\"1\" class=\"dataframe\">\n",
       "  <thead>\n",
       "    <tr style=\"text-align: right;\">\n",
       "      <th></th>\n",
       "      <th>participant</th>\n",
       "      <th>prime</th>\n",
       "      <th>target</th>\n",
       "      <th>rt</th>\n",
       "    </tr>\n",
       "  </thead>\n",
       "  <tbody>\n",
       "    <tr>\n",
       "      <th>0</th>\n",
       "      <td>1</td>\n",
       "      <td>positiveprime</td>\n",
       "      <td>positivetarget</td>\n",
       "      <td>1502</td>\n",
       "    </tr>\n",
       "    <tr>\n",
       "      <th>1</th>\n",
       "      <td>2</td>\n",
       "      <td>positiveprime</td>\n",
       "      <td>positivetarget</td>\n",
       "      <td>1535</td>\n",
       "    </tr>\n",
       "    <tr>\n",
       "      <th>2</th>\n",
       "      <td>3</td>\n",
       "      <td>positiveprime</td>\n",
       "      <td>positivetarget</td>\n",
       "      <td>1563</td>\n",
       "    </tr>\n",
       "    <tr>\n",
       "      <th>3</th>\n",
       "      <td>4</td>\n",
       "      <td>positiveprime</td>\n",
       "      <td>positivetarget</td>\n",
       "      <td>1492</td>\n",
       "    </tr>\n",
       "    <tr>\n",
       "      <th>4</th>\n",
       "      <td>5</td>\n",
       "      <td>positiveprime</td>\n",
       "      <td>positivetarget</td>\n",
       "      <td>1560</td>\n",
       "    </tr>\n",
       "  </tbody>\n",
       "</table>\n",
       "</div>"
      ],
      "text/plain": [
       "   participant          prime          target    rt\n",
       "0            1  positiveprime  positivetarget  1502\n",
       "1            2  positiveprime  positivetarget  1535\n",
       "2            3  positiveprime  positivetarget  1563\n",
       "3            4  positiveprime  positivetarget  1492\n",
       "4            5  positiveprime  positivetarget  1560"
      ]
     },
     "execution_count": 6,
     "metadata": {},
     "output_type": "execute_result"
    }
   ],
   "source": [
    "my_data.head()"
   ]
  },
  {
   "cell_type": "code",
   "execution_count": 7,
   "id": "124cac7d",
   "metadata": {},
   "outputs": [],
   "source": [
    "my_data.columns = my_data.columns.str.title()"
   ]
  },
  {
   "cell_type": "code",
   "execution_count": 8,
   "id": "e4defd96",
   "metadata": {},
   "outputs": [],
   "source": [
    "my_data = my_data.replace(['positiveprime', 'negativeprime', 'positivetarget', 'negativetarget'], \n",
    "                ['Positive', 'Negative', 'Positive', 'Negative'])"
   ]
  },
  {
   "cell_type": "code",
   "execution_count": 9,
   "id": "f091f95b",
   "metadata": {},
   "outputs": [
    {
     "data": {
      "text/html": [
       "<div>\n",
       "<style scoped>\n",
       "    .dataframe tbody tr th:only-of-type {\n",
       "        vertical-align: middle;\n",
       "    }\n",
       "\n",
       "    .dataframe tbody tr th {\n",
       "        vertical-align: top;\n",
       "    }\n",
       "\n",
       "    .dataframe thead th {\n",
       "        text-align: right;\n",
       "    }\n",
       "</style>\n",
       "<table border=\"1\" class=\"dataframe\">\n",
       "  <thead>\n",
       "    <tr style=\"text-align: right;\">\n",
       "      <th></th>\n",
       "      <th>Participant</th>\n",
       "      <th>Prime</th>\n",
       "      <th>Target</th>\n",
       "      <th>Rt</th>\n",
       "    </tr>\n",
       "  </thead>\n",
       "  <tbody>\n",
       "    <tr>\n",
       "      <th>0</th>\n",
       "      <td>1</td>\n",
       "      <td>Positive</td>\n",
       "      <td>Positive</td>\n",
       "      <td>1502</td>\n",
       "    </tr>\n",
       "    <tr>\n",
       "      <th>1</th>\n",
       "      <td>2</td>\n",
       "      <td>Positive</td>\n",
       "      <td>Positive</td>\n",
       "      <td>1535</td>\n",
       "    </tr>\n",
       "    <tr>\n",
       "      <th>2</th>\n",
       "      <td>3</td>\n",
       "      <td>Positive</td>\n",
       "      <td>Positive</td>\n",
       "      <td>1563</td>\n",
       "    </tr>\n",
       "    <tr>\n",
       "      <th>3</th>\n",
       "      <td>4</td>\n",
       "      <td>Positive</td>\n",
       "      <td>Positive</td>\n",
       "      <td>1492</td>\n",
       "    </tr>\n",
       "    <tr>\n",
       "      <th>4</th>\n",
       "      <td>5</td>\n",
       "      <td>Positive</td>\n",
       "      <td>Positive</td>\n",
       "      <td>1560</td>\n",
       "    </tr>\n",
       "  </tbody>\n",
       "</table>\n",
       "</div>"
      ],
      "text/plain": [
       "   Participant     Prime    Target    Rt\n",
       "0            1  Positive  Positive  1502\n",
       "1            2  Positive  Positive  1535\n",
       "2            3  Positive  Positive  1563\n",
       "3            4  Positive  Positive  1492\n",
       "4            5  Positive  Positive  1560"
      ]
     },
     "execution_count": 9,
     "metadata": {},
     "output_type": "execute_result"
    }
   ],
   "source": [
    "my_data.head()"
   ]
  },
  {
   "cell_type": "markdown",
   "id": "54b689ed",
   "metadata": {},
   "source": [
    "Descriptive Statistics"
   ]
  },
  {
   "cell_type": "code",
   "execution_count": 10,
   "id": "74d2be59",
   "metadata": {},
   "outputs": [
    {
     "data": {
      "text/html": [
       "<div>\n",
       "<style scoped>\n",
       "    .dataframe tbody tr th:only-of-type {\n",
       "        vertical-align: middle;\n",
       "    }\n",
       "\n",
       "    .dataframe tbody tr th {\n",
       "        vertical-align: top;\n",
       "    }\n",
       "\n",
       "    .dataframe thead th {\n",
       "        text-align: right;\n",
       "    }\n",
       "</style>\n",
       "<table border=\"1\" class=\"dataframe\">\n",
       "  <thead>\n",
       "    <tr style=\"text-align: right;\">\n",
       "      <th></th>\n",
       "      <th></th>\n",
       "      <th>Participant</th>\n",
       "      <th>Rt</th>\n",
       "    </tr>\n",
       "    <tr>\n",
       "      <th>Prime</th>\n",
       "      <th>Target</th>\n",
       "      <th></th>\n",
       "      <th></th>\n",
       "    </tr>\n",
       "  </thead>\n",
       "  <tbody>\n",
       "    <tr>\n",
       "      <th rowspan=\"2\" valign=\"top\">Negative</th>\n",
       "      <th>Negative</th>\n",
       "      <td>74.5</td>\n",
       "      <td>1547.256757</td>\n",
       "    </tr>\n",
       "    <tr>\n",
       "      <th>Positive</th>\n",
       "      <td>74.5</td>\n",
       "      <td>1562.648649</td>\n",
       "    </tr>\n",
       "    <tr>\n",
       "      <th rowspan=\"2\" valign=\"top\">Positive</th>\n",
       "      <th>Negative</th>\n",
       "      <td>74.5</td>\n",
       "      <td>1566.959459</td>\n",
       "    </tr>\n",
       "    <tr>\n",
       "      <th>Positive</th>\n",
       "      <td>74.5</td>\n",
       "      <td>1547.391892</td>\n",
       "    </tr>\n",
       "  </tbody>\n",
       "</table>\n",
       "</div>"
      ],
      "text/plain": [
       "                   Participant           Rt\n",
       "Prime    Target                            \n",
       "Negative Negative         74.5  1547.256757\n",
       "         Positive         74.5  1562.648649\n",
       "Positive Negative         74.5  1566.959459\n",
       "         Positive         74.5  1547.391892"
      ]
     },
     "execution_count": 10,
     "metadata": {},
     "output_type": "execute_result"
    }
   ],
   "source": [
    "grouped_data = my_data.groupby(['Prime', 'Target'])\n",
    "group_means = grouped_data['Rt'].mean()\n",
    "group_errors = grouped_data['Rt'].std()\n",
    "group_means = grouped_data.mean()\n",
    "pd.DataFrame(group_means)"
   ]
  },
  {
   "cell_type": "markdown",
   "id": "69f4a52a",
   "metadata": {},
   "source": [
    "Data Visualisation"
   ]
  },
  {
   "cell_type": "code",
   "execution_count": 11,
   "id": "720389aa",
   "metadata": {},
   "outputs": [],
   "source": [
    "from statsmodels.graphics.factorplots import interaction_plot"
   ]
  },
  {
   "cell_type": "markdown",
   "id": "26d096f9",
   "metadata": {},
   "source": [
    "Anova"
   ]
  },
  {
   "cell_type": "code",
   "execution_count": 23,
   "id": "ceebfc89",
   "metadata": {},
   "outputs": [],
   "source": [
    "from scipy import stats"
   ]
  },
  {
   "cell_type": "code",
   "execution_count": 24,
   "id": "9c117430",
   "metadata": {},
   "outputs": [
    {
     "name": "stdout",
     "output_type": "stream",
     "text": [
      "                   Anova\n",
      "===========================================\n",
      "             F Value Num DF  Den DF  Pr > F\n",
      "-------------------------------------------\n",
      "Prime         0.3132 1.0000 147.0000 0.5766\n",
      "Target        0.2365 1.0000 147.0000 0.6275\n",
      "Prime:Target 17.1778 1.0000 147.0000 0.0001\n",
      "===========================================\n",
      "\n"
     ]
    }
   ],
   "source": [
    "from statsmodels.stats.anova import AnovaRM\n",
    "factorial_model = AnovaRM(data=my_data, depvar='Rt', within=['Prime', 'Target'], subject='Participant').fit()\n",
    "print(factorial_model)"
   ]
  },
  {
   "cell_type": "markdown",
   "id": "c185ea75",
   "metadata": {},
   "source": [
    "Post hoc testing"
   ]
  },
  {
   "cell_type": "code",
   "execution_count": 25,
   "id": "a07c985a",
   "metadata": {},
   "outputs": [],
   "source": [
    "index = (my_data['Prime']=='Positive') & (my_data['Target']=='Positive')\n",
    "PP = my_data[index]['Rt']"
   ]
  },
  {
   "cell_type": "code",
   "execution_count": 26,
   "id": "89c022cb",
   "metadata": {},
   "outputs": [],
   "source": [
    "index = (my_data['Prime']=='Negative') & (my_data['Target']=='Positive')\n",
    "NP = my_data[index]['Rt']"
   ]
  },
  {
   "cell_type": "code",
   "execution_count": 27,
   "id": "6bebe375",
   "metadata": {},
   "outputs": [
    {
     "data": {
      "text/plain": [
       "Ttest_relResult(statistic=-2.906391854871503, pvalue=0.00422249196356647)"
      ]
     },
     "execution_count": 27,
     "metadata": {},
     "output_type": "execute_result"
    }
   ],
   "source": [
    "stats.ttest_rel(PP, NP)"
   ]
  },
  {
   "cell_type": "code",
   "execution_count": 28,
   "id": "749a5bd3",
   "metadata": {},
   "outputs": [],
   "source": [
    "index = (my_data['Prime']=='Positive') & (my_data['Target']=='Negative')\n",
    "PN = my_data[index]['Rt']\n",
    "index = (my_data['Prime']=='Negative') & (my_data['Target']=='Negative')\n",
    "NN = my_data[index]['Rt']"
   ]
  },
  {
   "cell_type": "code",
   "execution_count": 29,
   "id": "4c678b8c",
   "metadata": {},
   "outputs": [
    {
     "data": {
      "text/plain": [
       "Ttest_relResult(statistic=3.1321734668224033, pvalue=0.0020943602880594543)"
      ]
     },
     "execution_count": 29,
     "metadata": {},
     "output_type": "execute_result"
    }
   ],
   "source": [
    "stats.ttest_rel(PN, NN)"
   ]
  },
  {
   "cell_type": "code",
   "execution_count": null,
   "id": "5a18fa0a",
   "metadata": {},
   "outputs": [],
   "source": []
  }
 ],
 "metadata": {
  "kernelspec": {
   "display_name": "Python (data_science)",
   "language": "python",
   "name": "data_science"
  },
  "language_info": {
   "codemirror_mode": {
    "name": "ipython",
    "version": 3
   },
   "file_extension": ".py",
   "mimetype": "text/x-python",
   "name": "python",
   "nbconvert_exporter": "python",
   "pygments_lexer": "ipython3",
   "version": "3.9.7"
  }
 },
 "nbformat": 4,
 "nbformat_minor": 5
}
